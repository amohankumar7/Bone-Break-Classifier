{
 "cells": [
  {
   "cell_type": "markdown",
   "id": "63ecf2e8",
   "metadata": {},
   "source": [
    "# **<span style = \"color:#4b8bbe\">Bone Break Classifier</span>**"
   ]
  },
  {
   "cell_type": "markdown",
   "id": "3111b4c9",
   "metadata": {},
   "source": [
    "### Part 1 - Building the CNN Model."
   ]
  },
  {
   "cell_type": "code",
   "execution_count": 68,
   "id": "a1b834ec",
   "metadata": {},
   "outputs": [],
   "source": [
    "# Importing the Keras libraries and packages\n",
    "from keras.models import Sequential\n",
    "from keras.layers import Convolution2D\n",
    "from keras.layers import MaxPooling2D\n",
    "from keras.layers import Flatten\n",
    "from keras.layers import Dense\n",
    "from keras.models import model_from_json\n",
    "import tensorflow as tf\n",
    "\n",
    "\n",
    "\n",
    "from tensorflow.keras.preprocessing.image import ImageDataGenerator\n",
    "\n",
    "import warnings\n",
    "warnings.filterwarnings(\"ignore\")"
   ]
  },
  {
   "cell_type": "code",
   "execution_count": 153,
   "id": "11314b75",
   "metadata": {},
   "outputs": [],
   "source": [
    "import numpy as py\n",
    "from matplotlib import pyplot as plt"
   ]
  },
  {
   "cell_type": "code",
   "execution_count": 69,
   "id": "75ba633b",
   "metadata": {},
   "outputs": [],
   "source": [
    "batch_size = 64\n",
    "base_dir = 'data'"
   ]
  },
  {
   "cell_type": "code",
   "execution_count": 70,
   "id": "7be5f75f",
   "metadata": {},
   "outputs": [],
   "source": [
    "# All images will be rescaled by 1./255\n",
    "train_datagen = ImageDataGenerator(rescale=1/255)"
   ]
  },
  {
   "cell_type": "code",
   "execution_count": 71,
   "id": "1eb8be52",
   "metadata": {},
   "outputs": [
    {
     "name": "stdout",
     "output_type": "stream",
     "text": [
      "Found 1702 images belonging to 12 classes.\n"
     ]
    }
   ],
   "source": [
    "# Flow training images in batches of 128 using train_datagen generator\n",
    "train_generator = train_datagen.flow_from_directory(\n",
    "        'Images',  # This is the source directory for training images\n",
    "        target_size=(200, 200),  # All images will be resized to 200 x 200\n",
    "        batch_size=batch_size,\n",
    "        # Specify the classes explicitly\n",
    "        classes = ['Avulsion fracture','Comminuted fracture','Compression-Crush fracture','Fracture Dislocation',\n",
    "                  'Greenstick fracture','Hairline Fracture','Impacted fracture','Intra-articular fracture',\n",
    "                  'Longitudinal fracture','Oblique fracture','Pathological fracture','Spiral Fracture'],\n",
    "        # Since we use categorical_crossentropy loss, we need categorical labels\n",
    "        class_mode='categorical')"
   ]
  },
  {
   "cell_type": "code",
   "execution_count": 76,
   "id": "e1b48692",
   "metadata": {},
   "outputs": [],
   "source": [
    "model = tf.keras.models.Sequential([\n",
    "    # Note the input shape is the desired size of the image 200x 200 with 3 bytes color\n",
    "    # The first convolution\n",
    "    tf.keras.layers.Conv2D(16, (3,3), activation='relu', input_shape=(200, 200, 3)),\n",
    "    tf.keras.layers.MaxPooling2D(2, 2),\n",
    "    # The second convolution\n",
    "    tf.keras.layers.Conv2D(32, (3,3), activation='relu'),\n",
    "    tf.keras.layers.MaxPooling2D(2,2),\n",
    "    # The third convolution\n",
    "    tf.keras.layers.Conv2D(64, (3,3), activation='relu'),\n",
    "    tf.keras.layers.MaxPooling2D(2,2),\n",
    "    # The fourth convolution\n",
    "    tf.keras.layers.Conv2D(64, (3,3), activation='relu'),\n",
    "    tf.keras.layers.MaxPooling2D(2,2),\n",
    "    # The fifth convolution\n",
    "    tf.keras.layers.Conv2D(64, (3,3), activation='relu'),\n",
    "    tf.keras.layers.MaxPooling2D(2,2),\n",
    "    # Flatten the results to feed into a dense layer\n",
    "    tf.keras.layers.Flatten(),\n",
    "    # 128 neuron in the fully-connected layer\n",
    "    tf.keras.layers.Dense(128, activation='relu'),\n",
    "    # 5 output neurons for 5 classes with the softmax activation\n",
    "    tf.keras.layers.Dense(12, activation='softmax')\n",
    "])"
   ]
  },
  {
   "cell_type": "code",
   "execution_count": 77,
   "id": "3fdbd059",
   "metadata": {},
   "outputs": [
    {
     "name": "stdout",
     "output_type": "stream",
     "text": [
      "Model: \"sequential_2\"\n",
      "_________________________________________________________________\n",
      " Layer (type)                Output Shape              Param #   \n",
      "=================================================================\n",
      " conv2d_10 (Conv2D)          (None, 198, 198, 16)      448       \n",
      "                                                                 \n",
      " max_pooling2d_10 (MaxPoolin  (None, 99, 99, 16)       0         \n",
      " g2D)                                                            \n",
      "                                                                 \n",
      " conv2d_11 (Conv2D)          (None, 97, 97, 32)        4640      \n",
      "                                                                 \n",
      " max_pooling2d_11 (MaxPoolin  (None, 48, 48, 32)       0         \n",
      " g2D)                                                            \n",
      "                                                                 \n",
      " conv2d_12 (Conv2D)          (None, 46, 46, 64)        18496     \n",
      "                                                                 \n",
      " max_pooling2d_12 (MaxPoolin  (None, 23, 23, 64)       0         \n",
      " g2D)                                                            \n",
      "                                                                 \n",
      " conv2d_13 (Conv2D)          (None, 21, 21, 64)        36928     \n",
      "                                                                 \n",
      " max_pooling2d_13 (MaxPoolin  (None, 10, 10, 64)       0         \n",
      " g2D)                                                            \n",
      "                                                                 \n",
      " conv2d_14 (Conv2D)          (None, 8, 8, 64)          36928     \n",
      "                                                                 \n",
      " max_pooling2d_14 (MaxPoolin  (None, 4, 4, 64)         0         \n",
      " g2D)                                                            \n",
      "                                                                 \n",
      " flatten_2 (Flatten)         (None, 1024)              0         \n",
      "                                                                 \n",
      " dense_4 (Dense)             (None, 128)               131200    \n",
      "                                                                 \n",
      " dense_5 (Dense)             (None, 12)                1548      \n",
      "                                                                 \n",
      "=================================================================\n",
      "Total params: 230,188\n",
      "Trainable params: 230,188\n",
      "Non-trainable params: 0\n",
      "_________________________________________________________________\n"
     ]
    }
   ],
   "source": [
    "model.summary()"
   ]
  },
  {
   "cell_type": "markdown",
   "id": "50deb94b",
   "metadata": {},
   "source": [
    "### Optimizing the Model"
   ]
  },
  {
   "cell_type": "code",
   "execution_count": 78,
   "id": "29f6e83a",
   "metadata": {},
   "outputs": [],
   "source": [
    "from tensorflow.keras.optimizers import RMSprop\n",
    "\n",
    "model.compile(loss='categorical_crossentropy',\n",
    "              optimizer=RMSprop(lr=0.001),\n",
    "              metrics=['acc'])\n",
    "\n",
    "total_sample=train_generator.n\n",
    "\n",
    "n_epochs = 30"
   ]
  },
  {
   "cell_type": "code",
   "execution_count": 79,
   "id": "15788ff7",
   "metadata": {},
   "outputs": [
    {
     "name": "stderr",
     "output_type": "stream",
     "text": [
      "C:\\Users\\ADITHYA\\AppData\\Local\\Temp\\ipykernel_9848\\591113773.py:1: UserWarning: `Model.fit_generator` is deprecated and will be removed in a future version. Please use `Model.fit`, which supports generators.\n",
      "  history = model.fit_generator(\n"
     ]
    },
    {
     "name": "stdout",
     "output_type": "stream",
     "text": [
      "Epoch 1/30\n",
      " 2/26 [=>............................] - ETA: 50s - loss: 2.5077 - acc: 0.0703 "
     ]
    },
    {
     "name": "stderr",
     "output_type": "stream",
     "text": [
      "C:\\Users\\ADITHYA\\anaconda3\\lib\\site-packages\\PIL\\Image.py:945: UserWarning: Palette images with Transparency expressed in bytes should be converted to RGBA images\n",
      "  warnings.warn(\n"
     ]
    },
    {
     "name": "stdout",
     "output_type": "stream",
     "text": [
      "26/26 [==============================] - 59s 2s/step - loss: 2.4820 - acc: 0.1129\n",
      "Epoch 2/30\n",
      "26/26 [==============================] - 56s 2s/step - loss: 2.4480 - acc: 0.1294\n",
      "Epoch 3/30\n",
      "26/26 [==============================] - 53s 2s/step - loss: 2.4008 - acc: 0.1636\n",
      "Epoch 4/30\n",
      "26/26 [==============================] - 64s 2s/step - loss: 2.3465 - acc: 0.1777\n",
      "Epoch 5/30\n",
      "26/26 [==============================] - 80s 3s/step - loss: 2.2562 - acc: 0.2265\n",
      "Epoch 6/30\n",
      "26/26 [==============================] - 74s 3s/step - loss: 2.1331 - acc: 0.2845\n",
      "Epoch 7/30\n",
      "26/26 [==============================] - 67s 3s/step - loss: 1.9950 - acc: 0.3297\n",
      "Epoch 8/30\n",
      "26/26 [==============================] - 61s 2s/step - loss: 1.8365 - acc: 0.3864\n",
      "Epoch 9/30\n",
      "26/26 [==============================] - 62s 2s/step - loss: 1.6797 - acc: 0.4426\n",
      "Epoch 10/30\n",
      "26/26 [==============================] - 63s 2s/step - loss: 1.4990 - acc: 0.5006\n",
      "Epoch 11/30\n",
      "26/26 [==============================] - 67s 3s/step - loss: 1.3593 - acc: 0.5501\n",
      "Epoch 12/30\n",
      "26/26 [==============================] - 74s 3s/step - loss: 1.2618 - acc: 0.5806\n",
      "Epoch 13/30\n",
      "26/26 [==============================] - 66s 2s/step - loss: 1.1278 - acc: 0.6386\n",
      "Epoch 14/30\n",
      "26/26 [==============================] - 58s 2s/step - loss: 1.0674 - acc: 0.6514\n",
      "Epoch 15/30\n",
      "26/26 [==============================] - 57s 2s/step - loss: 0.9958 - acc: 0.6844\n",
      "Epoch 16/30\n",
      "26/26 [==============================] - 56s 2s/step - loss: 0.9396 - acc: 0.7051\n",
      "Epoch 17/30\n",
      "26/26 [==============================] - 58s 2s/step - loss: 0.8614 - acc: 0.7265\n",
      "Epoch 18/30\n",
      "26/26 [==============================] - 60s 2s/step - loss: 0.8182 - acc: 0.7424\n",
      "Epoch 19/30\n",
      "26/26 [==============================] - 62s 2s/step - loss: 0.7810 - acc: 0.7595\n",
      "Epoch 20/30\n",
      "26/26 [==============================] - 58s 2s/step - loss: 0.7247 - acc: 0.7717\n",
      "Epoch 21/30\n",
      "26/26 [==============================] - 58s 2s/step - loss: 0.7076 - acc: 0.7808\n",
      "Epoch 22/30\n",
      "26/26 [==============================] - 55s 2s/step - loss: 0.6648 - acc: 0.7943\n",
      "Epoch 23/30\n",
      "26/26 [==============================] - 58s 2s/step - loss: 0.6517 - acc: 0.8065\n",
      "Epoch 24/30\n",
      "26/26 [==============================] - 60s 2s/step - loss: 0.5971 - acc: 0.8223\n",
      "Epoch 25/30\n",
      "26/26 [==============================] - 60s 2s/step - loss: 0.6089 - acc: 0.8040\n",
      "Epoch 26/30\n",
      "26/26 [==============================] - 61s 2s/step - loss: 0.5384 - acc: 0.8394\n",
      "Epoch 27/30\n",
      "26/26 [==============================] - 61s 2s/step - loss: 0.5434 - acc: 0.8297\n",
      "Epoch 28/30\n",
      "26/26 [==============================] - 57s 2s/step - loss: 0.5394 - acc: 0.8321\n",
      "Epoch 29/30\n",
      "26/26 [==============================] - 58s 2s/step - loss: 0.5260 - acc: 0.8248\n",
      "Epoch 30/30\n",
      "26/26 [==============================] - 56s 2s/step - loss: 0.5223 - acc: 0.8315\n"
     ]
    }
   ],
   "source": [
    "history = model.fit_generator(\n",
    "        train_generator, \n",
    "        steps_per_epoch=int(total_sample/batch_size),  \n",
    "        epochs=n_epochs,\n",
    "        verbose=1)\n"
   ]
  },
  {
   "cell_type": "code",
   "execution_count": 80,
   "id": "5177593d",
   "metadata": {},
   "outputs": [],
   "source": [
    "model.save('model.h5')"
   ]
  },
  {
   "cell_type": "code",
   "execution_count": 155,
   "id": "79c54474",
   "metadata": {},
   "outputs": [
    {
     "data": {
      "image/png": "[encoded data removed]",
      "text/plain": [
       "<Figure size 432x288 with 1 Axes>"
      ]
     },
     "metadata": {
      "needs_background": "light"
     },
     "output_type": "display_data"
    }
   ],
   "source": [
    "#Visualizing loss:\n",
    "fig = plt.figure()\n",
    "plt.plot(history.history['loss'], color='teal',label='loss')\n",
    "#plt.plot(history.history['val_loss'], color='orange',label='val_loss')\n",
    "fig.suptitle('Loss',fontsize=20)\n",
    "plt.legend(loc=\"upper left\")\n",
    "plt.show()"
   ]
  },
  {
   "cell_type": "code",
   "execution_count": 158,
   "id": "e3bf2d7d",
   "metadata": {},
   "outputs": [
    {
     "data": {
      "image/png": "[encoded data removed]",
      "text/plain": [
       "<Figure size 432x288 with 1 Axes>"
      ]
     },
     "metadata": {
      "needs_background": "light"
     },
     "output_type": "display_data"
    }
   ],
   "source": [
    "#Visualizing loss:\n",
    "fig = plt.figure()\n",
    "plt.plot(history.history['acc'], color='orange',label='acc')\n",
    "#plt.plot(history.history['val_loss'], color='orange',label='val_loss')\n",
    "fig.suptitle('Accuracy',fontsize=20)\n",
    "plt.legend(loc=\"upper left\")\n",
    "plt.show()"
   ]
  },
  {
   "cell_type": "markdown",
   "id": "d24a51a3",
   "metadata": {},
   "source": [
    "### Predicting the Model on Test data."
   ]
  },
  {
   "cell_type": "code",
   "execution_count": 81,
   "id": "a9a288e9",
   "metadata": {},
   "outputs": [],
   "source": [
    "import numpy as np\n",
    "from tensorflow.keras.preprocessing import image"
   ]
  },
  {
   "cell_type": "code",
   "execution_count": 82,
   "id": "eb4a3945",
   "metadata": {},
   "outputs": [],
   "source": [
    "test_image = image.load_img('1b62e6fbfbc5a2f70c6af413189cfc82.jpg', target_size = (200,200))"
   ]
  },
  {
   "cell_type": "code",
   "execution_count": 86,
   "id": "609ecbdc",
   "metadata": {},
   "outputs": [],
   "source": [
    "test_image = image.load_img('9d79b527cca86a56fa24c88017e6bbd4--x-rays-physiology.jpg', target_size = (200,200))"
   ]
  },
  {
   "cell_type": "code",
   "execution_count": 90,
   "id": "98d53dae",
   "metadata": {},
   "outputs": [],
   "source": [
    "test_image = image.load_img('38890tn.jpg', target_size = (200,200))\n"
   ]
  },
  {
   "cell_type": "code",
   "execution_count": 98,
   "id": "1886134d",
   "metadata": {},
   "outputs": [],
   "source": [
    "test_image = image.load_img('images29.jpg', target_size = (200,200))\n"
   ]
  },
  {
   "cell_type": "code",
   "execution_count": 114,
   "id": "9cd056e7",
   "metadata": {},
   "outputs": [],
   "source": [
    "file_name = ['image2.jpeg',\n",
    "'image12.jpeg',\n",
    "'image30.jpeg',\n",
    "'image31.jpeg',\n",
    "'image13.jpeg',\n",
    "'x-ray-of-fracture-tibia.jpg',\n",
    "'image9.jpeg',\n",
    "'leg-xray.jpg']\n"
   ]
  },
  {
   "cell_type": "code",
   "execution_count": 145,
   "id": "20b3effe",
   "metadata": {},
   "outputs": [],
   "source": [
    "test_image = image.load_img(file_name[7], target_size = (200,200))\n"
   ]
  },
  {
   "cell_type": "code",
   "execution_count": 146,
   "id": "623aa8c5",
   "metadata": {},
   "outputs": [],
   "source": [
    "test_image = np.expand_dims(test_image, axis=0)"
   ]
  },
  {
   "cell_type": "code",
   "execution_count": 147,
   "id": "8360f306",
   "metadata": {},
   "outputs": [
    {
     "name": "stdout",
     "output_type": "stream",
     "text": [
      "1/1 [==============================] - 0s 33ms/step\n"
     ]
    }
   ],
   "source": [
    "result = model.predict(test_image)"
   ]
  },
  {
   "cell_type": "code",
   "execution_count": 148,
   "id": "4c1e3752",
   "metadata": {},
   "outputs": [
    {
     "data": {
      "text/plain": [
       "array([[0.0000000e+00, 0.0000000e+00, 0.0000000e+00, 0.0000000e+00,\n",
       "        0.0000000e+00, 0.0000000e+00, 0.0000000e+00, 1.0000000e+00,\n",
       "        0.0000000e+00, 0.0000000e+00, 0.0000000e+00, 2.3402615e-13]],\n",
       "      dtype=float32)"
      ]
     },
     "execution_count": 148,
     "metadata": {},
     "output_type": "execute_result"
    }
   ],
   "source": [
    "result"
   ]
  },
  {
   "cell_type": "code",
   "execution_count": 149,
   "id": "03dee8e7",
   "metadata": {},
   "outputs": [
    {
     "name": "stdout",
     "output_type": "stream",
     "text": [
      "Intra-articluar fracture\n"
     ]
    }
   ],
   "source": [
    "if result[0][0] == 1:\n",
    "    print(\"Avulsion Fracture\")\n",
    "elif result[0][1] == 1:\n",
    "    print(\"Comminuted fracture\")\n",
    "elif result[0][2] == 1:\n",
    "    print(\"Compression-Crush fracture\")\n",
    "elif result[0][3] == 1:\n",
    "    print(\"Fracture Dislocation\")\n",
    "elif result[0][4] == 1:\n",
    "    print(\"Greenstick fracture\")\n",
    "elif result[0][5] == 1:\n",
    "    print(\"Hairline fracture\")\n",
    "elif result[0][6] == 1:\n",
    "    print(\"Impacted Dislocation\")\n",
    "elif result[0][7] == 1:\n",
    "    print(\"Intra-articluar fracture\")\n",
    "elif result[0][8] == 1:\n",
    "    print(\"Longitudinal fracture\")\n",
    "elif result[0][9] == 1:\n",
    "    print(\"Oblique Dislocation\")\n",
    "elif result[0][10] == 1:\n",
    "    print(\"Pathological fracture\")\n",
    "elif result[0][11] == 1:\n",
    "    print(\"Spiral fracture\")\n",
    "else:\n",
    "    print(\"Unknown\")\n"
   ]
  },
  {
   "cell_type": "markdown",
   "id": "0f9fcb31",
   "metadata": {},
   "source": [
    "## Conclusion\n",
    "### Our model is Performing well with an accuracy rate of 83% .\n",
    "### We can further improve the model's performance by using RNN,BERT algorithm etc.."
   ]
  },
  {
   "cell_type": "code",
   "execution_count": null,
   "id": "a75de412",
   "metadata": {},
   "outputs": [],
   "source": []
  }
 ],
 "metadata": {
  "kernelspec": {
   "display_name": "Python 3 (ipykernel)",
   "language": "python",
   "name": "python3"
  },
  "language_info": {
   "codemirror_mode": {
    "name": "ipython",
    "version": 3
   },
   "file_extension": ".py",
   "mimetype": "text/x-python",
   "name": "python",
   "nbconvert_exporter": "python",
   "pygments_lexer": "ipython3",
   "version": "3.9.12"
  }
 },
 "nbformat": 4,
 "nbformat_minor": 5
}
